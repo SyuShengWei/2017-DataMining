{
 "cells": [
  {
   "cell_type": "code",
   "execution_count": 1,
   "metadata": {
    "collapsed": true
   },
   "outputs": [],
   "source": [
    "import re\n",
    "import pandas as pd\n",
    "from nltk.tokenize import word_tokenize\n",
    "from nltk.corpus import stopwords \n",
    "from nltk import stem  "
   ]
  },
  {
   "cell_type": "code",
   "execution_count": 2,
   "metadata": {
    "collapsed": true
   },
   "outputs": [],
   "source": [
    "def re_rule(x):\n",
    "    if re.search(\"[a-z0-9]+\",x) != None :\n",
    "        return re.search(\"[a-z0-9]+\",x).group(0)"
   ]
  },
  {
   "cell_type": "code",
   "execution_count": 3,
   "metadata": {
    "collapsed": true
   },
   "outputs": [],
   "source": [
    "stop_words = set(stopwords.words('english'))\n",
    "stop_words.update(['.',',','\"',\"'\",'?','!',':',';','(',')','[rm]','[',']','{','}'])\n",
    "wordnet_lemm = stem.WordNetLemmatizer()\n",
    "\n",
    "def NLP_process(Sentence):\n",
    "    try:\n",
    "        words_result = []\n",
    "        words_now = word_tokenize(Sentence)\n",
    "        words_result = words_now\n",
    "        words_now = [i.lower() for i in words_result if i.lower() not in stop_words]\n",
    "        words_result = words_now\n",
    "        words_now =  [re_rule(w) for w in words_result]\n",
    "        words_result = []\n",
    "        for w in words_now:\n",
    "            if w != None :\n",
    "                words_result.append(\n",
    "                    wordnet_lemm.lemmatize(w))\n",
    "        return words_result\n",
    "    except:\n",
    "        print(Sentence)\n",
    "        return([])"
   ]
  },
  {
   "cell_type": "code",
   "execution_count": 4,
   "metadata": {},
   "outputs": [
    {
     "name": "stdout",
     "output_type": "stream",
     "text": [
      "['nwot', 'look', 'cool', 'trend', 'striped', 'midi', 'bodycon', 'dress', 's', 'easy', 'style', 'down', 'pair', 'black', 'heel', 'sandal', 'casual', 'look', 're', 'good', 'go', 'new', 'purchase', 'rm', 'excluding', 'shipping', 'get', 'sweet', 'surprise', 'gift', 'stretchy', 'lace', 'thong', 'style', 'panty', 'brand', 'new', 'tag']\n"
     ]
    }
   ],
   "source": [
    "Sentence = \"▪️nwot Look cool and on trend in this striped midi bodycon dress. It's easy to style up or down- pair with black heels (or sandals for a more casual look) and you're good to go! ❤️NEW! All purchases over [rm] (excluding shipping) will get a sweet surprise gift!❤️ Stretchy lace thong style panties brand new with tags.\"\n",
    "print(NLP_process(Sentence))"
   ]
  },
  {
   "cell_type": "code",
   "execution_count": 5,
   "metadata": {
    "collapsed": true
   },
   "outputs": [],
   "source": [
    "Train = pd.read_csv(\"train.tsv\",delimiter = '\\t')\n",
    "Test = pd.read_csv(\"test.tsv\",delimiter = '\\t')"
   ]
  },
  {
   "cell_type": "code",
   "execution_count": 6,
   "metadata": {},
   "outputs": [
    {
     "data": {
      "text/html": [
       "<div>\n",
       "<style scoped>\n",
       "    .dataframe tbody tr th:only-of-type {\n",
       "        vertical-align: middle;\n",
       "    }\n",
       "\n",
       "    .dataframe tbody tr th {\n",
       "        vertical-align: top;\n",
       "    }\n",
       "\n",
       "    .dataframe thead th {\n",
       "        text-align: right;\n",
       "    }\n",
       "</style>\n",
       "<table border=\"1\" class=\"dataframe\">\n",
       "  <thead>\n",
       "    <tr style=\"text-align: right;\">\n",
       "      <th></th>\n",
       "      <th>train_id</th>\n",
       "      <th>name</th>\n",
       "      <th>item_condition_id</th>\n",
       "      <th>category_name</th>\n",
       "      <th>brand_name</th>\n",
       "      <th>price</th>\n",
       "      <th>shipping</th>\n",
       "      <th>item_description</th>\n",
       "    </tr>\n",
       "  </thead>\n",
       "  <tbody>\n",
       "    <tr>\n",
       "      <th>0</th>\n",
       "      <td>0</td>\n",
       "      <td>MLB Cincinnati Reds T Shirt Size XL</td>\n",
       "      <td>3</td>\n",
       "      <td>Men/Tops/T-shirts</td>\n",
       "      <td>NaN</td>\n",
       "      <td>10.0</td>\n",
       "      <td>1</td>\n",
       "      <td>No description yet</td>\n",
       "    </tr>\n",
       "  </tbody>\n",
       "</table>\n",
       "</div>"
      ],
      "text/plain": [
       "   train_id                                 name  item_condition_id  \\\n",
       "0         0  MLB Cincinnati Reds T Shirt Size XL                  3   \n",
       "\n",
       "       category_name brand_name  price  shipping    item_description  \n",
       "0  Men/Tops/T-shirts        NaN   10.0         1  No description yet  "
      ]
     },
     "execution_count": 6,
     "metadata": {},
     "output_type": "execute_result"
    }
   ],
   "source": [
    "Train.head(1)"
   ]
  },
  {
   "cell_type": "code",
   "execution_count": 7,
   "metadata": {
    "collapsed": true
   },
   "outputs": [],
   "source": [
    "Train_Meta = pd.concat([Train.train_id,Train.category_name,Train.item_description,Train.price],axis =1)\n",
    "Test_Meta = pd.concat([Test.test_id, Test.category_name ,Test.item_description],axis = 1)"
   ]
  },
  {
   "cell_type": "code",
   "execution_count": 8,
   "metadata": {},
   "outputs": [
    {
     "data": {
      "text/html": [
       "<div>\n",
       "<style scoped>\n",
       "    .dataframe tbody tr th:only-of-type {\n",
       "        vertical-align: middle;\n",
       "    }\n",
       "\n",
       "    .dataframe tbody tr th {\n",
       "        vertical-align: top;\n",
       "    }\n",
       "\n",
       "    .dataframe thead th {\n",
       "        text-align: right;\n",
       "    }\n",
       "</style>\n",
       "<table border=\"1\" class=\"dataframe\">\n",
       "  <thead>\n",
       "    <tr style=\"text-align: right;\">\n",
       "      <th></th>\n",
       "      <th>train_id</th>\n",
       "      <th>category_name</th>\n",
       "      <th>item_description</th>\n",
       "      <th>price</th>\n",
       "    </tr>\n",
       "  </thead>\n",
       "  <tbody>\n",
       "    <tr>\n",
       "      <th>0</th>\n",
       "      <td>0</td>\n",
       "      <td>Men/Tops/T-shirts</td>\n",
       "      <td>No description yet</td>\n",
       "      <td>10.0</td>\n",
       "    </tr>\n",
       "  </tbody>\n",
       "</table>\n",
       "</div>"
      ],
      "text/plain": [
       "   train_id      category_name    item_description  price\n",
       "0         0  Men/Tops/T-shirts  No description yet   10.0"
      ]
     },
     "execution_count": 8,
     "metadata": {},
     "output_type": "execute_result"
    }
   ],
   "source": [
    "Train_Meta.head(1)"
   ]
  },
  {
   "cell_type": "code",
   "execution_count": 9,
   "metadata": {
    "collapsed": true
   },
   "outputs": [],
   "source": [
    "Train_Meta = Train_Meta.rename(columns={'train_id':'id'})\n",
    "Test_Meta = Test_Meta.rename(columns = {'test_id':'id'})\n",
    "Train_Meta['if_Train'] = 1\n",
    "Test_Meta['if_Train'] = 0\n",
    "Train_and_Test = pd.concat(\n",
    "    [Train_Meta.drop(['price'],axis=1),Test_Meta],axis = 0)"
   ]
  },
  {
   "cell_type": "code",
   "execution_count": 10,
   "metadata": {
    "collapsed": true
   },
   "outputs": [],
   "source": [
    "Train_and_Test.category_name = Train_and_Test.category_name.astype('category')\n",
    "Category_Dict = dict( enumerate(Train_and_Test['category_name'].cat.categories))\n",
    "Train_and_Test.category_name = Train_and_Test.category_name.cat.codes\n",
    "Coded_Train = Train_and_Test.loc[Train_and_Test['if_Train'] == 1]\n",
    "Coded_Test = Train_and_Test.loc[Train_and_Test['if_Train'] == 0]"
   ]
  },
  {
   "cell_type": "code",
   "execution_count": 11,
   "metadata": {
    "collapsed": true
   },
   "outputs": [],
   "source": [
    "Coded_Train = Coded_Train.drop(['if_Train'],axis = 1)\n",
    "Coded_Test = Coded_Test.drop(['if_Train'],axis = 1)\n",
    "Coded_Train['price'] = Train_Meta.price"
   ]
  },
  {
   "cell_type": "code",
   "execution_count": 12,
   "metadata": {
    "collapsed": true
   },
   "outputs": [],
   "source": [
    "del Train\n",
    "del Test\n",
    "del Train_Meta\n",
    "del Test_Meta\n",
    "del Train_and_Test"
   ]
  },
  {
   "cell_type": "code",
   "execution_count": 13,
   "metadata": {},
   "outputs": [
    {
     "data": {
      "text/html": [
       "<div>\n",
       "<style scoped>\n",
       "    .dataframe tbody tr th:only-of-type {\n",
       "        vertical-align: middle;\n",
       "    }\n",
       "\n",
       "    .dataframe tbody tr th {\n",
       "        vertical-align: top;\n",
       "    }\n",
       "\n",
       "    .dataframe thead th {\n",
       "        text-align: right;\n",
       "    }\n",
       "</style>\n",
       "<table border=\"1\" class=\"dataframe\">\n",
       "  <thead>\n",
       "    <tr style=\"text-align: right;\">\n",
       "      <th></th>\n",
       "      <th>id</th>\n",
       "      <th>category_name</th>\n",
       "      <th>item_description</th>\n",
       "      <th>price</th>\n",
       "    </tr>\n",
       "  </thead>\n",
       "  <tbody>\n",
       "    <tr>\n",
       "      <th>0</th>\n",
       "      <td>0</td>\n",
       "      <td>829</td>\n",
       "      <td>No description yet</td>\n",
       "      <td>10.0</td>\n",
       "    </tr>\n",
       "    <tr>\n",
       "      <th>1</th>\n",
       "      <td>1</td>\n",
       "      <td>86</td>\n",
       "      <td>This keyboard is in great condition and works ...</td>\n",
       "      <td>52.0</td>\n",
       "    </tr>\n",
       "    <tr>\n",
       "      <th>2</th>\n",
       "      <td>2</td>\n",
       "      <td>1277</td>\n",
       "      <td>Adorable top with a hint of lace and a key hol...</td>\n",
       "      <td>10.0</td>\n",
       "    </tr>\n",
       "    <tr>\n",
       "      <th>3</th>\n",
       "      <td>3</td>\n",
       "      <td>503</td>\n",
       "      <td>New with tags. Leather horses. Retail for [rm]...</td>\n",
       "      <td>35.0</td>\n",
       "    </tr>\n",
       "    <tr>\n",
       "      <th>4</th>\n",
       "      <td>4</td>\n",
       "      <td>1204</td>\n",
       "      <td>Complete with certificate of authenticity</td>\n",
       "      <td>44.0</td>\n",
       "    </tr>\n",
       "  </tbody>\n",
       "</table>\n",
       "</div>"
      ],
      "text/plain": [
       "   id  category_name                                   item_description  price\n",
       "0   0            829                                 No description yet   10.0\n",
       "1   1             86  This keyboard is in great condition and works ...   52.0\n",
       "2   2           1277  Adorable top with a hint of lace and a key hol...   10.0\n",
       "3   3            503  New with tags. Leather horses. Retail for [rm]...   35.0\n",
       "4   4           1204          Complete with certificate of authenticity   44.0"
      ]
     },
     "execution_count": 13,
     "metadata": {},
     "output_type": "execute_result"
    }
   ],
   "source": [
    "Coded_Train.head()"
   ]
  },
  {
   "cell_type": "code",
   "execution_count": 26,
   "metadata": {},
   "outputs": [
    {
     "name": "stdout",
     "output_type": "stream",
     "text": [
      "nan\n",
      "nan\n",
      "nan\n",
      "nan\n"
     ]
    }
   ],
   "source": [
    "Coded_Train.item_description = Coded_Train.item_description.apply(NLP_process)"
   ]
  },
  {
   "cell_type": "code",
   "execution_count": 33,
   "metadata": {},
   "outputs": [
    {
     "data": {
      "text/html": [
       "<div>\n",
       "<style scoped>\n",
       "    .dataframe tbody tr th:only-of-type {\n",
       "        vertical-align: middle;\n",
       "    }\n",
       "\n",
       "    .dataframe tbody tr th {\n",
       "        vertical-align: top;\n",
       "    }\n",
       "\n",
       "    .dataframe thead th {\n",
       "        text-align: right;\n",
       "    }\n",
       "</style>\n",
       "<table border=\"1\" class=\"dataframe\">\n",
       "  <thead>\n",
       "    <tr style=\"text-align: right;\">\n",
       "      <th></th>\n",
       "      <th>id</th>\n",
       "      <th>category_name</th>\n",
       "      <th>item_description</th>\n",
       "      <th>price</th>\n",
       "    </tr>\n",
       "  </thead>\n",
       "  <tbody>\n",
       "    <tr>\n",
       "      <th>0</th>\n",
       "      <td>0</td>\n",
       "      <td>829</td>\n",
       "      <td>[description, yet]</td>\n",
       "      <td>10.0</td>\n",
       "    </tr>\n",
       "  </tbody>\n",
       "</table>\n",
       "</div>"
      ],
      "text/plain": [
       "   id  category_name    item_description  price\n",
       "0   0            829  [description, yet]   10.0"
      ]
     },
     "execution_count": 33,
     "metadata": {},
     "output_type": "execute_result"
    }
   ],
   "source": [
    "Coded_Train.head(1)"
   ]
  },
  {
   "cell_type": "code",
   "execution_count": 49,
   "metadata": {},
   "outputs": [],
   "source": [
    "Dict_Word_Value = {}\n",
    "p_mean = Coded_Train.price.mean()\n",
    "p_STD = Coded_Train.price.std()"
   ]
  },
  {
   "cell_type": "code",
   "execution_count": null,
   "metadata": {},
   "outputs": [],
   "source": []
  },
  {
   "cell_type": "code",
   "execution_count": 50,
   "metadata": {
    "collapsed": true
   },
   "outputs": [],
   "source": [
    "def updateDicrWordValue(DF):\n",
    "    x_std = (DF['price']- p_mean) / p_STD\n",
    "    for word in DF['item_description']:        \n",
    "        if Dict_Word_Value.get(word) == None:\n",
    "            Dict_Word_Value[word] = [x_std]\n",
    "        else:\n",
    "            Dict_Word_Value[word].append(x_std)"
   ]
  },
  {
   "cell_type": "code",
   "execution_count": 51,
   "metadata": {},
   "outputs": [
    {
     "data": {
      "text/plain": [
       "0          None\n",
       "1          None\n",
       "2          None\n",
       "3          None\n",
       "4          None\n",
       "5          None\n",
       "6          None\n",
       "7          None\n",
       "8          None\n",
       "9          None\n",
       "10         None\n",
       "11         None\n",
       "12         None\n",
       "13         None\n",
       "14         None\n",
       "15         None\n",
       "16         None\n",
       "17         None\n",
       "18         None\n",
       "19         None\n",
       "20         None\n",
       "21         None\n",
       "22         None\n",
       "23         None\n",
       "24         None\n",
       "25         None\n",
       "26         None\n",
       "27         None\n",
       "28         None\n",
       "29         None\n",
       "           ... \n",
       "1482505    None\n",
       "1482506    None\n",
       "1482507    None\n",
       "1482508    None\n",
       "1482509    None\n",
       "1482510    None\n",
       "1482511    None\n",
       "1482512    None\n",
       "1482513    None\n",
       "1482514    None\n",
       "1482515    None\n",
       "1482516    None\n",
       "1482517    None\n",
       "1482518    None\n",
       "1482519    None\n",
       "1482520    None\n",
       "1482521    None\n",
       "1482522    None\n",
       "1482523    None\n",
       "1482524    None\n",
       "1482525    None\n",
       "1482526    None\n",
       "1482527    None\n",
       "1482528    None\n",
       "1482529    None\n",
       "1482530    None\n",
       "1482531    None\n",
       "1482532    None\n",
       "1482533    None\n",
       "1482534    None\n",
       "Length: 1482535, dtype: object"
      ]
     },
     "execution_count": 51,
     "metadata": {},
     "output_type": "execute_result"
    }
   ],
   "source": [
    "Coded_Train.apply(updateDicrWordValue,axis=1)"
   ]
  },
  {
   "cell_type": "code",
   "execution_count": 53,
   "metadata": {},
   "outputs": [],
   "source": [
    "import numpy as np\n",
    "for key in Dict_Word_Value :\n",
    "    value = np.mean(Dict_Word_Value[key])\n",
    "    Dict_Word_Value[key] = value"
   ]
  },
  {
   "cell_type": "code",
   "execution_count": 54,
   "metadata": {},
   "outputs": [
    {
     "name": "stdout",
     "output_type": "stream",
     "text": [
      "-0.111639570967\n"
     ]
    }
   ],
   "source": [
    "for key in Dict_Word_Value:\n",
    "    print(Dict_Word_Value[key])\n",
    "    \n",
    "    break"
   ]
  },
  {
   "cell_type": "code",
   "execution_count": 57,
   "metadata": {
    "collapsed": true
   },
   "outputs": [],
   "source": [
    "Category_Dictionary = {}\n",
    "for key in Category_Dict:\n",
    "    Category_Dictionary[Category_Dict[key]] = key"
   ]
  },
  {
   "cell_type": "code",
   "execution_count": 58,
   "metadata": {},
   "outputs": [],
   "source": [
    "import json\n",
    "with open(\"Gorbal_Descript_Meta.json\",'w') as o_f:\n",
    "    json.dump(Dict_Word_Value,o_f)\n",
    "with open(\"Gorbal_Category_Meta.json\",'w') as o_f:\n",
    "    json.dump(Category_Dictionary,o_f)"
   ]
  },
  {
   "cell_type": "code",
   "execution_count": null,
   "metadata": {
    "collapsed": true
   },
   "outputs": [],
   "source": []
  }
 ],
 "metadata": {
  "kernelspec": {
   "display_name": "Python 3",
   "language": "python",
   "name": "python3"
  },
  "language_info": {
   "codemirror_mode": {
    "name": "ipython",
    "version": 3
   },
   "file_extension": ".py",
   "mimetype": "text/x-python",
   "name": "python",
   "nbconvert_exporter": "python",
   "pygments_lexer": "ipython3",
   "version": "3.6.1"
  }
 },
 "nbformat": 4,
 "nbformat_minor": 2
}

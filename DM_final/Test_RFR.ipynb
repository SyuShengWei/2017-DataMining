{
 "cells": [
  {
   "cell_type": "code",
   "execution_count": 37,
   "metadata": {},
   "outputs": [],
   "source": [
    "import csv \n",
    "\n",
    "Data_RFR_X = []\n",
    "Data_RFR_Y = []\n",
    "\n",
    "with open(\"Train_Cate.csv\",'r') as infile:\n",
    "    title_line = infile.readline()\n",
    "    #print(title_line)\n",
    "    CSVReader = csv.reader(infile,delimiter='\\t', quotechar='|')\n",
    "    for row in CSVReader:\n",
    "        new_line = list(map(int,row[2:6]))+[int(row[7])]\n",
    "        Data_RFR_X.append(new_line)\n",
    "        Data_RFR_Y.append(float(row[-1]))\n",
    "    "
   ]
  },
  {
   "cell_type": "code",
   "execution_count": 38,
   "metadata": {},
   "outputs": [
    {
     "name": "stdout",
     "output_type": "stream",
     "text": [
      "train_id\tname\titem_condition_id\tcategory_name_1\tcategory_name_2\tcategory_name_3\tbrand_name\tshipping\titem_description\tprice\n",
      "\n",
      "[3, 0, 0, 0, 1]\n"
     ]
    }
   ],
   "source": [
    "print(title_line)\n",
    "#0:item_condition_id\n",
    "#1:category_name_1\n",
    "#2:category_name_2\n",
    "#3:category_name_3\n",
    "#4:shipping\n",
    "print(Data_RFR_X[0])"
   ]
  },
  {
   "cell_type": "code",
   "execution_count": 39,
   "metadata": {},
   "outputs": [],
   "source": [
    "Pre_Train_X = []\n",
    "Pre_Train_Y = []\n",
    "Pre_Test_X = []\n",
    "Pre_Test_Y = []\n",
    "\n",
    "for i in range(len(Data_RFR_X)):\n",
    "    if i%2 == 0:\n",
    "        Pre_Train_X.append(Data_RFR_X[i])\n",
    "        Pre_Train_Y.append(Data_RFR_Y[i])\n",
    "    else:\n",
    "        Pre_Test_X.append(Data_RFR_X[i])\n",
    "        Pre_Test_Y.append(Data_RFR_Y[i])"
   ]
  },
  {
   "cell_type": "code",
   "execution_count": 40,
   "metadata": {},
   "outputs": [
    {
     "data": {
      "text/plain": [
       "RandomForestRegressor(bootstrap=True, criterion='mse', max_depth=None,\n",
       "           max_features='auto', max_leaf_nodes=None,\n",
       "           min_impurity_decrease=0.0, min_impurity_split=None,\n",
       "           min_samples_leaf=1, min_samples_split=2,\n",
       "           min_weight_fraction_leaf=0.0, n_estimators=10, n_jobs=1,\n",
       "           oob_score=False, random_state=None, verbose=0, warm_start=False)"
      ]
     },
     "execution_count": 40,
     "metadata": {},
     "output_type": "execute_result"
    }
   ],
   "source": [
    "from sklearn.ensemble import RandomForestRegressor\n",
    "RFR = RandomForestRegressor()\n",
    "RFR.fit(Pre_Train_X,Pre_Train_Y)"
   ]
  },
  {
   "cell_type": "code",
   "execution_count": 95,
   "metadata": {},
   "outputs": [],
   "source": [
    "Predict_Result = []\n",
    "Total_pre = 0\n",
    "for i in range(len(Pre_Test_X)):\n",
    "    predict_result = int(RFR.predict([Pre_Test_X[i]]))\n",
    "    Predict_Result.append([predict_result,Pre_Test_Y[i]])\n",
    "    Total_pre += 1\n",
    "    #print(Total_pre)\n",
    "#print(Predict_Result)"
   ]
  },
  {
   "cell_type": "code",
   "execution_count": 96,
   "metadata": {},
   "outputs": [
    {
     "name": "stdout",
     "output_type": "stream",
     "text": [
      "0.6606913374242017\n"
     ]
    }
   ],
   "source": [
    "import math\n",
    "\n",
    "def log_calaulate(result):\n",
    "    val = math.pow((math.log(result[0]+1)) - (math.log(result[1]+1)),2)\n",
    "    return val\n",
    "\n",
    "cal_result = list(map(log_calaulate,Predict_Result))\n",
    "score = math.pow(sum(cal_result)/len(cal_result),0.5)\n",
    "\n",
    "print(score)\n",
    "#log_Values = map\n"
   ]
  },
  {
   "cell_type": "code",
   "execution_count": null,
   "metadata": {
    "collapsed": true
   },
   "outputs": [],
   "source": []
  },
  {
   "cell_type": "code",
   "execution_count": null,
   "metadata": {
    "collapsed": true
   },
   "outputs": [],
   "source": []
  }
 ],
 "metadata": {
  "kernelspec": {
   "display_name": "Python 3",
   "language": "python",
   "name": "python3"
  },
  "language_info": {
   "codemirror_mode": {
    "name": "ipython",
    "version": 3
   },
   "file_extension": ".py",
   "mimetype": "text/x-python",
   "name": "python",
   "nbconvert_exporter": "python",
   "pygments_lexer": "ipython3",
   "version": "3.6.1"
  }
 },
 "nbformat": 4,
 "nbformat_minor": 2
}

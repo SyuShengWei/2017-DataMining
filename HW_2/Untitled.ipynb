{
 "cells": [
  {
   "cell_type": "code",
   "execution_count": 1,
   "metadata": {},
   "outputs": [
    {
     "ename": "IndentationError",
     "evalue": "unexpected indent (<ipython-input-1-092889143b47>, line 69)",
     "output_type": "error",
     "traceback": [
      "\u001b[0;36m  File \u001b[0;32m\"<ipython-input-1-092889143b47>\"\u001b[0;36m, line \u001b[0;32m69\u001b[0m\n\u001b[0;31m    feature_names=Title_List,\u001b[0m\n\u001b[0m    ^\u001b[0m\n\u001b[0;31mIndentationError\u001b[0m\u001b[0;31m:\u001b[0m unexpected indent\n"
     ]
    }
   ],
   "source": [
    "import queue\n",
    "import graphviz \n",
    "import DataGenerator as DG\n",
    "from sklearn import tree\n",
    "\n",
    "Tree_Hash = {\"Y\":0,\"N\":1}\n",
    "\n",
    "class Node :\n",
    "\tdef __init__(self,node_name):\n",
    "\t\tself.name = node_name\n",
    "\t\tself.parent = None\n",
    "\t\tself.child = [None,None]\n",
    "\t\tself.pos = None\n",
    "\t\n",
    "\tdef printTree(self,level=0):\n",
    "\t\tprint('\\t'*level + '('+str(self.pos)+')'+ str(self.name) )\n",
    "\t\tfor child_node in self.child:\n",
    "\t\t\tif child_node != None:\n",
    "\t\t\t\tchild_node.printTree(level+1)\n",
    "\n",
    "def growthTree(parent_node,child_node,pos):\n",
    "\tparent_node.child[Tree_Hash[pos]] = child_node\n",
    "\tchild_node.parent = parent_node\n",
    "\tchild_node.pos = pos\n",
    "\n",
    "def createBinaryTree(Node_Info_List):\n",
    "\tQ_tree = queue.Queue() ##used to creat tree\n",
    "\tI_node = 1# index of Node_Info_List\n",
    "\tRoot = Node(Node_Info_List[0])\n",
    "\tQ_tree.put(Root)\n",
    "\twhile (I_node != len(Node_Info_List)):\n",
    "\t\tcurrent = Q_tree.get()\n",
    "\t\tleft_Node = Node(Node_Info_List[I_node])\n",
    "\t\tif(left_Node.name != \"x\"):\n",
    "\t\t\tgrowthTree(current,left_Node,\"Y\")\n",
    "\t\t\tQ_tree.put(left_Node)\n",
    "\t\tI_node += 1\n",
    "\t\tright_Node = Node(Node_Info_List[I_node])\n",
    "\t\tif(right_Node.name != \"x\"):\n",
    "\t\t\tgrowthTree(current,right_Node,\"N\")\t\t\n",
    "\t\t\tQ_tree.put(right_Node)\n",
    "\t\tI_node += 1\n",
    "\treturn Root\n",
    "\n",
    "if __name__ == \"__main__\" :\n",
    "\tTitle_List = [\"Management Math\",\"Human Factors Engineering\",\"Linear Algebra\",\n",
    "\t\t\t\"Cloud Mobile Applications\",\"Computer Network\",\"Java\",\n",
    "\t\t\t\"Psychology\",\"Leadership\",\"Service Management\"]\n",
    "\tPersion_List = [40,10,45,10,10,30,30,45,15]\n",
    "\n",
    "\tNode_Info = [\"Java\",\n",
    "\t\t\t\t\"Human Factors Engineering\",\"Service Management\",\n",
    "\t\t\t\t\"[0]Industrial\",\"[1]Information\",\"Management Math\",\"[0]Industrial\",\n",
    "\t\t\t\t\"x\",\"x\",\"x\",\"x\",\"[0]Industrial\",\"[1]Information\",\"x\",\"x\"]\n",
    "\n",
    "\tRoot = createBinaryTree(Node_Info)\n",
    "\tRoot.printTree()\n",
    "\n",
    "\tP_List = [Persion_List[i]/60 for i in range(9)]\n",
    "\n",
    "\tDG.generateByTree(Root,100,9,Title_List,P_List)\n",
    "\t#print(DG.Data_Y)\n",
    "\tDT = tree.DecisionTreeClassifier()\n",
    "\t#print(DG.Data_Y)\n",
    "\t#print(DG.Data_X)\n",
    "\tDT = DT.fit(DG.Data_X,DG.Data_Y)\n",
    "\n",
    "\t#dot_data = tree.export_graphviz(DT, out_file=\"Tree.txt\", \n",
    "    #                     feature_names=Title_List,  \n",
    "    #                     class_names=[\"[0]Industrial\",\"[1]Information\"],\n",
    "    #                     filled=True, rounded=True,  \n",
    "    #                     special_characters=True) \n",
    "\t#graph = graphviz.Source(dot_data)\n",
    "    "
   ]
  },
  {
   "cell_type": "code",
   "execution_count": null,
   "metadata": {
    "collapsed": true
   },
   "outputs": [],
   "source": []
  },
  {
   "cell_type": "code",
   "execution_count": null,
   "metadata": {
    "collapsed": true
   },
   "outputs": [],
   "source": []
  },
  {
   "cell_type": "code",
   "execution_count": null,
   "metadata": {
    "collapsed": true
   },
   "outputs": [],
   "source": []
  }
 ],
 "metadata": {
  "kernelspec": {
   "display_name": "Python 3",
   "language": "python",
   "name": "python3"
  },
  "language_info": {
   "codemirror_mode": {
    "name": "ipython",
    "version": 3
   },
   "file_extension": ".py",
   "mimetype": "text/x-python",
   "name": "python",
   "nbconvert_exporter": "python",
   "pygments_lexer": "ipython3",
   "version": "3.6.1"
  }
 },
 "nbformat": 4,
 "nbformat_minor": 2
}

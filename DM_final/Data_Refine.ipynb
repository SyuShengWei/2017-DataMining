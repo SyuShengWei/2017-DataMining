{
 "cells": [
  {
   "cell_type": "code",
   "execution_count": 1,
   "metadata": {},
   "outputs": [
    {
     "name": "stdout",
     "output_type": "stream",
     "text": [
      "{'train_id': 0, 'name': 1, 'item_condition_id': 2, 'category_name': 3, 'brand_name': 4, 'price': 5, 'shipping': 6, 'item_description': 7}\n"
     ]
    }
   ],
   "source": [
    "import csv\n",
    "import sys\n",
    "\n",
    "\n",
    "Train_Data = []\n",
    "Title_Dict = {}\n",
    "with open (\"train.tsv\",'r')as infile:\n",
    "    title = infile.readline().replace('\\n','').split('\\t')\n",
    "    for i in range(len(title)):\n",
    "        Title_Dict[title[i]] = i\n",
    "    print(Title_Dict)\n",
    "    Datas = infile.readlines()\n",
    "    for the_line in Datas:\n",
    "        data_line = the_line.replace('\\n','').split('\\t')\n",
    "        Train_Data.append(data_line)\n",
    "    infile.close()    "
   ]
  },
  {
   "cell_type": "code",
   "execution_count": 2,
   "metadata": {},
   "outputs": [
    {
     "name": "stdout",
     "output_type": "stream",
     "text": [
      "{'train_id': 0, 'name': 1, 'item_condition_id': 2, 'category_name': 3, 'brand_name': 4, 'price': 5, 'shipping': 6, 'item_description': 7}\n",
      "['0', 'MLB Cincinnati Reds T Shirt Size XL', '3', 'Men/Tops/T-shirts', '', '10.0', '1', 'No description yet']\n"
     ]
    }
   ],
   "source": [
    "print(Title_Dict)\n",
    "print(Train_Data[0])"
   ]
  },
  {
   "cell_type": "code",
   "execution_count": 3,
   "metadata": {},
   "outputs": [
    {
     "name": "stdout",
     "output_type": "stream",
     "text": [
      "10\n"
     ]
    }
   ],
   "source": [
    "title_line = [\"train_id\",\"name\",\n",
    "              \"item_condition_id\",\"category_name_1\",\n",
    "              \"category_name_2\",\"category_name_3\",\n",
    "              \"brand_name\",\"shipping\",\n",
    "              \"item_description\",\"price\"]\n",
    "print(len(title_line))"
   ]
  },
  {
   "cell_type": "code",
   "execution_count": null,
   "metadata": {},
   "outputs": [
    {
     "name": "stdout",
     "output_type": "stream",
     "text": [
      "1476208\n",
      "6327\n",
      "0\n"
     ]
    }
   ],
   "source": [
    "import pandas as pd \n",
    "\n",
    "New_Train_Data = []\n",
    "Noise_Data = []\n",
    "\n",
    "max_len = 0\n",
    "for line in Train_Data:\n",
    "    #print(line[4])\n",
    "    new_line = line[:3]\n",
    "    \n",
    "#categories需要重新分成3個attribute,超過3個的，超出的項目與最後一個合併\n",
    "\n",
    "    categories = line[3].split(\"/\")\n",
    "    if len(categories) < 3 :\n",
    "        #print(line)\n",
    "        Noise_Data.append(line)\n",
    "        continue\n",
    "    elif len(categories) == 3 :\n",
    "        new_line += categories\n",
    "    else:\n",
    "        #print(categories)\n",
    "        new_cate = categories[:2] + [\"/\".join(categories[2:])]\n",
    "        #print(new_cate)\n",
    "        new_line += new_cate\n",
    "    \n",
    "    new_line += [line[4]]    \n",
    "    new_line += line[6:]\n",
    "    new_line += [line[5]]\n",
    "\n",
    "#判斷是否不符合規定，不符合則刪除。\n",
    "    if (len(new_line)) != 10 :\n",
    "        #print (line,end = \"len : \")\n",
    "        #print(len(new_line))\n",
    "        if len(new_line)> max_len:\n",
    "            max_len = len(new_line)\n",
    "    else:\n",
    "        New_Train_Data.append(new_line)\n",
    "del Train_Data\n",
    "print(len(New_Train_Data))\n",
    "print(len(Noise_Data))\n",
    "print(max_len)\n",
    "df = pd.DataFrame(New_Train_Data)\n",
    "pd.get_dummies(df)"
   ]
  },
  {
   "cell_type": "code",
   "execution_count": 5,
   "metadata": {
    "collapsed": true
   },
   "outputs": [],
   "source": [
    "RFR_train_X =[]\n",
    "RFR_train_Y =[]\n",
    "RFR_test_X = []\n",
    "RFR_test_Y = []\n",
    "\n",
    "Train_or_Test = 0\n",
    "for line in New_Train_Data:\n",
    "    if Train_or_Test == 0:\n",
    "        RFR_train_X.append(line[3:-2])\n",
    "        RFR_train_Y.append(float(line[-1]))\n",
    "        Train_or_Test = 1\n",
    "    else:\n",
    "        RFR_test_X.append(line[3:-2])\n",
    "        RFR_test_Y.append(float(line[-1]))\n",
    "        Train_or_Test = 0\n"
   ]
  },
  {
   "cell_type": "code",
   "execution_count": 58,
   "metadata": {},
   "outputs": [
    {
     "ename": "ValueError",
     "evalue": "could not convert string to float: 'Men'",
     "output_type": "error",
     "traceback": [
      "\u001b[0;31m---------------------------------------------------------------------------\u001b[0m",
      "\u001b[0;31mValueError\u001b[0m                                Traceback (most recent call last)",
      "\u001b[0;32m<ipython-input-58-04019ab4e15f>\u001b[0m in \u001b[0;36m<module>\u001b[0;34m()\u001b[0m\n\u001b[1;32m      1\u001b[0m \u001b[0;32mfrom\u001b[0m \u001b[0msklearn\u001b[0m\u001b[0;34m.\u001b[0m\u001b[0mensemble\u001b[0m \u001b[0;32mimport\u001b[0m \u001b[0mRandomForestRegressor\u001b[0m\u001b[0;34m\u001b[0m\u001b[0m\n\u001b[1;32m      2\u001b[0m \u001b[0mRFR\u001b[0m \u001b[0;34m=\u001b[0m \u001b[0mRandomForestRegressor\u001b[0m\u001b[0;34m(\u001b[0m\u001b[0;34m)\u001b[0m\u001b[0;34m\u001b[0m\u001b[0m\n\u001b[0;32m----> 3\u001b[0;31m \u001b[0mRFR\u001b[0m\u001b[0;34m.\u001b[0m\u001b[0mfit\u001b[0m\u001b[0;34m(\u001b[0m\u001b[0mRFR_train_X\u001b[0m\u001b[0;34m,\u001b[0m\u001b[0mRFR_train_Y\u001b[0m\u001b[0;34m)\u001b[0m\u001b[0;34m\u001b[0m\u001b[0m\n\u001b[0m",
      "\u001b[0;32m/usr/local/lib/python3.6/site-packages/sklearn/ensemble/forest.py\u001b[0m in \u001b[0;36mfit\u001b[0;34m(self, X, y, sample_weight)\u001b[0m\n\u001b[1;32m    245\u001b[0m         \"\"\"\n\u001b[1;32m    246\u001b[0m         \u001b[0;31m# Validate or convert input data\u001b[0m\u001b[0;34m\u001b[0m\u001b[0;34m\u001b[0m\u001b[0m\n\u001b[0;32m--> 247\u001b[0;31m         \u001b[0mX\u001b[0m \u001b[0;34m=\u001b[0m \u001b[0mcheck_array\u001b[0m\u001b[0;34m(\u001b[0m\u001b[0mX\u001b[0m\u001b[0;34m,\u001b[0m \u001b[0maccept_sparse\u001b[0m\u001b[0;34m=\u001b[0m\u001b[0;34m\"csc\"\u001b[0m\u001b[0;34m,\u001b[0m \u001b[0mdtype\u001b[0m\u001b[0;34m=\u001b[0m\u001b[0mDTYPE\u001b[0m\u001b[0;34m)\u001b[0m\u001b[0;34m\u001b[0m\u001b[0m\n\u001b[0m\u001b[1;32m    248\u001b[0m         \u001b[0my\u001b[0m \u001b[0;34m=\u001b[0m \u001b[0mcheck_array\u001b[0m\u001b[0;34m(\u001b[0m\u001b[0my\u001b[0m\u001b[0;34m,\u001b[0m \u001b[0maccept_sparse\u001b[0m\u001b[0;34m=\u001b[0m\u001b[0;34m'csc'\u001b[0m\u001b[0;34m,\u001b[0m \u001b[0mensure_2d\u001b[0m\u001b[0;34m=\u001b[0m\u001b[0;32mFalse\u001b[0m\u001b[0;34m,\u001b[0m \u001b[0mdtype\u001b[0m\u001b[0;34m=\u001b[0m\u001b[0;32mNone\u001b[0m\u001b[0;34m)\u001b[0m\u001b[0;34m\u001b[0m\u001b[0m\n\u001b[1;32m    249\u001b[0m         \u001b[0;32mif\u001b[0m \u001b[0msample_weight\u001b[0m \u001b[0;32mis\u001b[0m \u001b[0;32mnot\u001b[0m \u001b[0;32mNone\u001b[0m\u001b[0;34m:\u001b[0m\u001b[0;34m\u001b[0m\u001b[0m\n",
      "\u001b[0;32m/usr/local/lib/python3.6/site-packages/sklearn/utils/validation.py\u001b[0m in \u001b[0;36mcheck_array\u001b[0;34m(array, accept_sparse, dtype, order, copy, force_all_finite, ensure_2d, allow_nd, ensure_min_samples, ensure_min_features, warn_on_dtype, estimator)\u001b[0m\n\u001b[1;32m    431\u001b[0m                                       force_all_finite)\n\u001b[1;32m    432\u001b[0m     \u001b[0;32melse\u001b[0m\u001b[0;34m:\u001b[0m\u001b[0;34m\u001b[0m\u001b[0m\n\u001b[0;32m--> 433\u001b[0;31m         \u001b[0marray\u001b[0m \u001b[0;34m=\u001b[0m \u001b[0mnp\u001b[0m\u001b[0;34m.\u001b[0m\u001b[0marray\u001b[0m\u001b[0;34m(\u001b[0m\u001b[0marray\u001b[0m\u001b[0;34m,\u001b[0m \u001b[0mdtype\u001b[0m\u001b[0;34m=\u001b[0m\u001b[0mdtype\u001b[0m\u001b[0;34m,\u001b[0m \u001b[0morder\u001b[0m\u001b[0;34m=\u001b[0m\u001b[0morder\u001b[0m\u001b[0;34m,\u001b[0m \u001b[0mcopy\u001b[0m\u001b[0;34m=\u001b[0m\u001b[0mcopy\u001b[0m\u001b[0;34m)\u001b[0m\u001b[0;34m\u001b[0m\u001b[0m\n\u001b[0m\u001b[1;32m    434\u001b[0m \u001b[0;34m\u001b[0m\u001b[0m\n\u001b[1;32m    435\u001b[0m         \u001b[0;32mif\u001b[0m \u001b[0mensure_2d\u001b[0m\u001b[0;34m:\u001b[0m\u001b[0;34m\u001b[0m\u001b[0m\n",
      "\u001b[0;31mValueError\u001b[0m: could not convert string to float: 'Men'"
     ]
    }
   ],
   "source": [
    "from sklearn.ensemble import RandomForestRegressor\n",
    "RFR = RandomForestRegressor()\n",
    "RFR.fit(RFR_train_X,RFR_train_Y)\n"
   ]
  },
  {
   "cell_type": "code",
   "execution_count": null,
   "metadata": {
    "collapsed": true
   },
   "outputs": [],
   "source": []
  }
 ],
 "metadata": {
  "kernelspec": {
   "display_name": "Python 3",
   "language": "python",
   "name": "python3"
  },
  "language_info": {
   "codemirror_mode": {
    "name": "ipython",
    "version": 3
   },
   "file_extension": ".py",
   "mimetype": "text/x-python",
   "name": "python",
   "nbconvert_exporter": "python",
   "pygments_lexer": "ipython3",
   "version": "3.6.1"
  }
 },
 "nbformat": 4,
 "nbformat_minor": 2
}
